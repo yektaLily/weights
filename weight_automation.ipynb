{
 "cells": [
  {
   "cell_type": "markdown",
   "id": "8388d2c2-644d-446f-af1e-b3b1b0ecfd3e",
   "metadata": {},
   "source": [
    "## Automation: Weights are all the same?\n",
    "\n",
    "This here is my process of checking whether or not all the weight columns work similar to each other. I will basically write a Python script that automates what I was doing in Excel.\n",
    "\n",
    "Steps: \n",
    "\n",
    "0. Clean dataset and make it ready \n",
    "1. come up with rules for each column: “ex. total spending was Less than 6410 or not” and give 0 or 1 to each entry for the related column.  \n",
    "2. count frequencies of 1’s (summation of all the rows for that column) \n",
    "3. Check: is the frequency number close enough to the frequency in the PUMPF file? \n",
    "4. weight column * rule column (”less than 6410”) = weighted frequency column \n",
    "5. summation of all the rows of weighted frequency column\n",
    "6. Check: is the summation of weighted frequency close enough to the weighted frequency in the PUMPF file? \n",
    "    1. Yes: Then it’s working similarly \n",
    "    2. No: Then it’s different. \n",
    "7. Record all progress"
   ]
  },
  {
   "cell_type": "markdown",
   "id": "c5900d79-26bc-4326-bf36-4b18802dd40b",
   "metadata": {},
   "source": [
    "### DATA ANALYSIS (short)"
   ]
  },
  {
   "cell_type": "code",
   "execution_count": 4,
   "id": "24509d5e-431a-489b-89c2-03851d69352e",
   "metadata": {},
   "outputs": [],
   "source": [
    "import pandas as pd \n",
    "import numpy as np \n",
    "import matplotlib.pyplot as plt \n",
    "import seaborn as sns "
   ]
  },
  {
   "cell_type": "code",
   "execution_count": 5,
   "id": "dba72b6d-a7c9-491e-a1c0-e96279e3a57b",
   "metadata": {},
   "outputs": [],
   "source": [
    "#read data \n",
    "og_df = ...\n",
    "cp_df = og_df.copy() #will work on this "
   ]
  },
  {
   "cell_type": "code",
   "execution_count": 6,
   "id": "f1d27b1a-f28f-4782-bf1b-32f0bdd27419",
   "metadata": {},
   "outputs": [],
   "source": [
    "#get some overall information on the dataset "
   ]
  },
  {
   "cell_type": "code",
   "execution_count": null,
   "id": "20a21aa9-c30f-4a19-b60a-9f77f42f4955",
   "metadata": {},
   "outputs": [],
   "source": []
  },
  {
   "cell_type": "markdown",
   "id": "670d1c22-3256-4b9a-ba41-b9b87e4bff45",
   "metadata": {},
   "source": [
    "### STEP1. Information\n",
    "\n",
    "This is a summary information from the pdf file in a List based on the pattern where every entry is a dictionary with the following information:  \n",
    "\n",
    "```python\n",
    "\n",
    "column_name = {\n",
    "    'name': col_name,\n",
    "    'position': 1, #integer value \n",
    "    'category': cat_type #type of category \n",
    "}\n",
    "\n",
    "```\n"
   ]
  },
  {
   "cell_type": "code",
   "execution_count": 3,
   "id": "97939ef9-4a4b-41c6-9ca2-7bb17c6be0bd",
   "metadata": {},
   "outputs": [
    {
     "ename": "SyntaxError",
     "evalue": "invalid syntax (<ipython-input-3-68dbabc259dd>, line 2)",
     "output_type": "error",
     "traceback": [
      "\u001b[1;36m  File \u001b[1;32m\"<ipython-input-3-68dbabc259dd>\"\u001b[1;36m, line \u001b[1;32m2\u001b[0m\n\u001b[1;33m    'name': ,\u001b[0m\n\u001b[1;37m            ^\u001b[0m\n\u001b[1;31mSyntaxError\u001b[0m\u001b[1;31m:\u001b[0m invalid syntax\n"
     ]
    }
   ],
   "source": [
    "summary_info =  {\n",
    "        'name': ,\n",
    "        'position':,\n",
    "        'category': \n",
    "    }\n",
    "\n",
    "lookUp_info = #input all the column informations here. \n",
    "\n",
    "#task: fill this out "
   ]
  },
  {
   "cell_type": "markdown",
   "id": "0012614b-941c-4f33-8865-9888be5eb933",
   "metadata": {},
   "source": [
    "### STEP2. GET INFORMATION \n",
    "\n",
    "Here, I'll write a function to gather information by looking up the position and fetching the weight column. "
   ]
  },
  {
   "cell_type": "code",
   "execution_count": 8,
   "id": "e5eba1b9-aa35-4c1b-a61a-404ed81cd6a6",
   "metadata": {},
   "outputs": [],
   "source": [
    "def get_info(col_name):\n",
    "    \"\"\"\n",
    "    Looks into the LookUp list: \n",
    "        - finds the position of column, \n",
    "        - finds the categorization method for column \n",
    "        - returns a dictionary with the following info:\n",
    "            * dataframe with column itself, weight column corresponding to it \n",
    "            * categorization method \n",
    "            * position number \n",
    "    \"\"\"\n",
    "    \n",
    "    for i in range(len(lookUp_info)):\n",
    "        if lookUp_info[i]['name'] == col_name: \n",
    "            pos = lookUp_info[i]['position']\n",
    "            cat = lookUp_info[i]['category']\n",
    "        else:\n",
    "            continue\n",
    "    \n",
    "    cols_ = [col_name, 'wts_{}'.format(col_name)]\n",
    "    s1 = pd.Series(cp_df[col_name])\n",
    "    s2 = pd.Series(cp_df['wrpg{}'.format(pos)])\n",
    "    df_ = pd.concat([s1, s2], axis = 1, columns = cols_)\n",
    "    \n",
    "    ret_dict = {\n",
    "        'data': df_,\n",
    "        'pos': pos,\n",
    "        'cat': cat\n",
    "    }\n",
    "    return ret_dict \n",
    "    "
   ]
  },
  {
   "cell_type": "markdown",
   "id": "1cb1ae97-ca5f-4286-bc63-33848447ec7f",
   "metadata": {},
   "source": [
    "### STEP3. CATEGORIZATIONS. "
   ]
  },
  {
   "cell_type": "code",
   "execution_count": null,
   "id": "a4aa54b2-47d1-4a93-a983-977c0371d0fa",
   "metadata": {},
   "outputs": [],
   "source": []
  }
 ],
 "metadata": {
  "kernelspec": {
   "display_name": "Python 3",
   "language": "python",
   "name": "python3"
  },
  "language_info": {
   "codemirror_mode": {
    "name": "ipython",
    "version": 3
   },
   "file_extension": ".py",
   "mimetype": "text/x-python",
   "name": "python",
   "nbconvert_exporter": "python",
   "pygments_lexer": "ipython3",
   "version": "3.8.8"
  }
 },
 "nbformat": 4,
 "nbformat_minor": 5
}
